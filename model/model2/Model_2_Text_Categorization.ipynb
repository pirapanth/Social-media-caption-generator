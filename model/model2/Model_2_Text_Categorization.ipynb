{
 "cells": [
  {
   "cell_type": "code",
   "execution_count": 7,
   "metadata": {
    "colab": {
     "base_uri": "https://localhost:8080/",
     "height": 85
    },
    "id": "a53Fsw38vX4n",
    "outputId": "758882f7-492d-43ae-a43b-2f468047cbc8",
    "tags": []
   },
   "outputs": [
    {
     "name": "stderr",
     "output_type": "stream",
     "text": [
      "[nltk_data] Downloading package wordnet to\n",
      "[nltk_data]     C:\\Users\\myyuv\\AppData\\Roaming\\nltk_data...\n",
      "[nltk_data]   Package wordnet is already up-to-date!\n",
      "[nltk_data] Downloading package stopwords to\n",
      "[nltk_data]     C:\\Users\\myyuv\\AppData\\Roaming\\nltk_data...\n",
      "[nltk_data]   Package stopwords is already up-to-date!\n"
     ]
    }
   ],
   "source": [
    "#perparing to work with text data\n",
    "import pandas as pd\n",
    "import numpy as np\n",
    "import re\n",
    "from nltk.corpus import stopwords\n",
    "import nltk\n",
    "nltk.download('wordnet')\n",
    "nltk.download('stopwords')\n",
    "from nltk.corpus import wordnet\n",
    "from nltk.corpus import stopwords"
   ]
  },
  {
   "cell_type": "markdown",
   "metadata": {
    "id": "Xch3Uu7akdUx"
   },
   "source": [
    "### Data Input"
   ]
  },
  {
   "cell_type": "code",
   "execution_count": 2,
   "metadata": {
    "colab": {
     "base_uri": "https://localhost:8080/",
     "height": 306
    },
    "id": "7j30kVkQvX45",
    "outputId": "1be77d85-848e-47d2-b50c-f6c46cffa0eb",
    "tags": []
   },
   "outputs": [
    {
     "data": {
      "text/html": [
       "<div>\n",
       "<style scoped>\n",
       "    .dataframe tbody tr th:only-of-type {\n",
       "        vertical-align: middle;\n",
       "    }\n",
       "\n",
       "    .dataframe tbody tr th {\n",
       "        vertical-align: top;\n",
       "    }\n",
       "\n",
       "    .dataframe thead th {\n",
       "        text-align: right;\n",
       "    }\n",
       "</style>\n",
       "<table border=\"1\" class=\"dataframe\">\n",
       "  <thead>\n",
       "    <tr style=\"text-align: right;\">\n",
       "      <th></th>\n",
       "      <th>Unnamed: 0.1</th>\n",
       "      <th>Category</th>\n",
       "      <th>Description</th>\n",
       "      <th>Title</th>\n",
       "      <th>Unnamed: 0</th>\n",
       "      <th>Video Id</th>\n",
       "      <th>file</th>\n",
       "    </tr>\n",
       "  </thead>\n",
       "  <tbody>\n",
       "    <tr>\n",
       "      <th>0</th>\n",
       "      <td>0</td>\n",
       "      <td>travel</td>\n",
       "      <td>DISCLAIMER* Please do not ride elephants when ...</td>\n",
       "      <td>Welcome to Bali | Travel Vlog | Priscilla Lee</td>\n",
       "      <td>0</td>\n",
       "      <td>i9E_Blai8vk</td>\n",
       "      <td>Collected_data_raw1.csv</td>\n",
       "    </tr>\n",
       "    <tr>\n",
       "      <th>1</th>\n",
       "      <td>1</td>\n",
       "      <td>travel</td>\n",
       "      <td>Had the most amazing experience in Finland for...</td>\n",
       "      <td>FINLAND VACATION: TRAVEL VLOG</td>\n",
       "      <td>1</td>\n",
       "      <td>UBvJKs9eW3I</td>\n",
       "      <td>Collected_data_raw1.csv</td>\n",
       "    </tr>\n",
       "    <tr>\n",
       "      <th>2</th>\n",
       "      <td>2</td>\n",
       "      <td>travel</td>\n",
       "      <td>Hello loves Today's video is the Vlog of my tr...</td>\n",
       "      <td>MYKONOS GREECE TRAVEL VLOG 2020 |  Living our ...</td>\n",
       "      <td>2</td>\n",
       "      <td>jeIQ_Z35HZ4</td>\n",
       "      <td>Collected_data_raw1.csv</td>\n",
       "    </tr>\n",
       "    <tr>\n",
       "      <th>3</th>\n",
       "      <td>3</td>\n",
       "      <td>travel</td>\n",
       "      <td>Thank you so much for watching! I hope you fou...</td>\n",
       "      <td>TRAVEL VLOG: SANTORINI, GREECE</td>\n",
       "      <td>3</td>\n",
       "      <td>EthqIhPtd2I</td>\n",
       "      <td>Collected_data_raw1.csv</td>\n",
       "    </tr>\n",
       "    <tr>\n",
       "      <th>4</th>\n",
       "      <td>4</td>\n",
       "      <td>travel</td>\n",
       "      <td>Las Vegas Travel Vlog 2020 - Pandemic Version....</td>\n",
       "      <td>Las Vegas Travel Vlog 2020 | Pandemic Edition</td>\n",
       "      <td>4</td>\n",
       "      <td>X0F0Dh8ut3U</td>\n",
       "      <td>Collected_data_raw1.csv</td>\n",
       "    </tr>\n",
       "  </tbody>\n",
       "</table>\n",
       "</div>"
      ],
      "text/plain": [
       "   Unnamed: 0.1 Category                                        Description  \\\n",
       "0             0   travel  DISCLAIMER* Please do not ride elephants when ...   \n",
       "1             1   travel  Had the most amazing experience in Finland for...   \n",
       "2             2   travel  Hello loves Today's video is the Vlog of my tr...   \n",
       "3             3   travel  Thank you so much for watching! I hope you fou...   \n",
       "4             4   travel  Las Vegas Travel Vlog 2020 - Pandemic Version....   \n",
       "\n",
       "                                               Title  Unnamed: 0     Video Id  \\\n",
       "0      Welcome to Bali | Travel Vlog | Priscilla Lee           0  i9E_Blai8vk   \n",
       "1                      FINLAND VACATION: TRAVEL VLOG           1  UBvJKs9eW3I   \n",
       "2  MYKONOS GREECE TRAVEL VLOG 2020 |  Living our ...           2  jeIQ_Z35HZ4   \n",
       "3                     TRAVEL VLOG: SANTORINI, GREECE           3  EthqIhPtd2I   \n",
       "4      Las Vegas Travel Vlog 2020 | Pandemic Edition           4  X0F0Dh8ut3U   \n",
       "\n",
       "                      file  \n",
       "0  Collected_data_raw1.csv  \n",
       "1  Collected_data_raw1.csv  \n",
       "2  Collected_data_raw1.csv  \n",
       "3  Collected_data_raw1.csv  \n",
       "4  Collected_data_raw1.csv  "
      ]
     },
     "execution_count": 2,
     "metadata": {},
     "output_type": "execute_result"
    }
   ],
   "source": [
    "#load data form csv file\n",
    "data = pd.read_csv('C:\\\\Users\\\\myyuv\\\\Documents\\\\pirapanth\\\\model\\\\model2\\\\merged_data_file.csv')\n",
    "data.head(5)"
   ]
  },
  {
   "cell_type": "code",
   "execution_count": 3,
   "metadata": {
    "colab": {
     "base_uri": "https://localhost:8080/",
     "height": 34
    },
    "id": "CqBDKbqimdty",
    "outputId": "5562dbad-0b1d-4558-e7d2-26e7b3b5bc13",
    "tags": []
   },
   "outputs": [
    {
     "data": {
      "text/plain": [
       "(29245, 7)"
      ]
     },
     "execution_count": 3,
     "metadata": {},
     "output_type": "execute_result"
    }
   ],
   "source": [
    "data.shape"
   ]
  },
  {
   "cell_type": "code",
   "execution_count": 4,
   "metadata": {
    "colab": {
     "base_uri": "https://localhost:8080/",
     "height": 204
    },
    "id": "C9Lr1vBpvX5O",
    "outputId": "0e69ff10-a0ed-42d2-a081-1f3c256092dd",
    "tags": []
   },
   "outputs": [
    {
     "data": {
      "text/html": [
       "<div>\n",
       "<style scoped>\n",
       "    .dataframe tbody tr th:only-of-type {\n",
       "        vertical-align: middle;\n",
       "    }\n",
       "\n",
       "    .dataframe tbody tr th {\n",
       "        vertical-align: top;\n",
       "    }\n",
       "\n",
       "    .dataframe thead th {\n",
       "        text-align: right;\n",
       "    }\n",
       "</style>\n",
       "<table border=\"1\" class=\"dataframe\">\n",
       "  <thead>\n",
       "    <tr style=\"text-align: right;\">\n",
       "      <th></th>\n",
       "      <th>Category</th>\n",
       "      <th>Description</th>\n",
       "      <th>Title</th>\n",
       "      <th>Video Id</th>\n",
       "    </tr>\n",
       "  </thead>\n",
       "  <tbody>\n",
       "    <tr>\n",
       "      <th>0</th>\n",
       "      <td>travel</td>\n",
       "      <td>DISCLAIMER* Please do not ride elephants when ...</td>\n",
       "      <td>Welcome to Bali | Travel Vlog | Priscilla Lee</td>\n",
       "      <td>i9E_Blai8vk</td>\n",
       "    </tr>\n",
       "    <tr>\n",
       "      <th>1</th>\n",
       "      <td>travel</td>\n",
       "      <td>Had the most amazing experience in Finland for...</td>\n",
       "      <td>FINLAND VACATION: TRAVEL VLOG</td>\n",
       "      <td>UBvJKs9eW3I</td>\n",
       "    </tr>\n",
       "    <tr>\n",
       "      <th>2</th>\n",
       "      <td>travel</td>\n",
       "      <td>Hello loves Today's video is the Vlog of my tr...</td>\n",
       "      <td>MYKONOS GREECE TRAVEL VLOG 2020 |  Living our ...</td>\n",
       "      <td>jeIQ_Z35HZ4</td>\n",
       "    </tr>\n",
       "    <tr>\n",
       "      <th>3</th>\n",
       "      <td>travel</td>\n",
       "      <td>Thank you so much for watching! I hope you fou...</td>\n",
       "      <td>TRAVEL VLOG: SANTORINI, GREECE</td>\n",
       "      <td>EthqIhPtd2I</td>\n",
       "    </tr>\n",
       "    <tr>\n",
       "      <th>4</th>\n",
       "      <td>travel</td>\n",
       "      <td>Las Vegas Travel Vlog 2020 - Pandemic Version....</td>\n",
       "      <td>Las Vegas Travel Vlog 2020 | Pandemic Edition</td>\n",
       "      <td>X0F0Dh8ut3U</td>\n",
       "    </tr>\n",
       "  </tbody>\n",
       "</table>\n",
       "</div>"
      ],
      "text/plain": [
       "  Category                                        Description  \\\n",
       "0   travel  DISCLAIMER* Please do not ride elephants when ...   \n",
       "1   travel  Had the most amazing experience in Finland for...   \n",
       "2   travel  Hello loves Today's video is the Vlog of my tr...   \n",
       "3   travel  Thank you so much for watching! I hope you fou...   \n",
       "4   travel  Las Vegas Travel Vlog 2020 - Pandemic Version....   \n",
       "\n",
       "                                               Title     Video Id  \n",
       "0      Welcome to Bali | Travel Vlog | Priscilla Lee  i9E_Blai8vk  \n",
       "1                      FINLAND VACATION: TRAVEL VLOG  UBvJKs9eW3I  \n",
       "2  MYKONOS GREECE TRAVEL VLOG 2020 |  Living our ...  jeIQ_Z35HZ4  \n",
       "3                     TRAVEL VLOG: SANTORINI, GREECE  EthqIhPtd2I  \n",
       "4      Las Vegas Travel Vlog 2020 | Pandemic Edition  X0F0Dh8ut3U  "
      ]
     },
     "execution_count": 4,
     "metadata": {},
     "output_type": "execute_result"
    }
   ],
   "source": [
    "#removing unnecessary columns,handling missing values\n",
    "del data['Unnamed: 0']\n",
    "del data['Unnamed: 0.1']\n",
    "del data['file']\n",
    "data.isnull().sum()\n",
    "df = data[data['Description'].notnull()]\n",
    "df.head()"
   ]
  },
  {
   "cell_type": "code",
   "execution_count": 6,
   "metadata": {
    "id": "SH_-9dOVvX5b",
    "tags": []
   },
   "outputs": [],
   "source": [
    "#removing degits,specific characters \n",
    "df['Category'] = df['Category'].str.replace(r'\\d+','')\n",
    "df['Description'] = df['Description'].str.replace(r'\\d+','')\n",
    "df['Title'] = df['Title'].str.replace(r'\\d+','')\n",
    "spec_chars = [\"!\",'\"',\"#\",\"%\",\"&\",\"'\",\"(\",\")\",\n",
    "              \"*\",\"+\",\",\",\"-\",\".\",\"/\",\":\",\";\",\"<\",\n",
    "              \"=\",\">\",\"?\",\"@\",\"[\",\"\\\\\",\"]\",\"^\",\"_\",\n",
    "              \"`\",\"{\",\"|\",\"}\",\"~\",\"–\"]\n",
    "for char in spec_chars:\n",
    "    df['Title'] = df['Title'].str.replace(char, ' ')\n",
    "    df['Description'] = df['Description'].str.replace(char, ' ')\n",
    "    df['Category'] = df['Category'].str.replace(char, ' ')"
   ]
  },
  {
   "cell_type": "code",
   "execution_count": 7,
   "metadata": {
    "id": "13BoMygOvX5i",
    "tags": []
   },
   "outputs": [],
   "source": [
    "removing emojis\n",
    "def remove_emoji(string):\n",
    "    emoji_pattern = re.compile(\"[\"\n",
    "                           u\"\\U0001F600-\\U0001F64F\"  # emoticons\n",
    "                           u\"\\U0001F300-\\U0001F5FF\"  # symbols & pictographs\n",
    "                           u\"\\U0001F680-\\U0001F6FF\"  # transport & map symbols\n",
    "                           u\"\\U0001F1E0-\\U0001F1FF\"  # flags (iOS)\n",
    "                           u\"\\U00002702-\\U000027B0\"\n",
    "                           u\"\\U000024C2-\\U0001F251\"\n",
    "                           \"]+\", flags=re.UNICODE)\n",
    "    return emoji_pattern.sub(r'', string)\n",
    "for i, row in df.iterrows():\n",
    "    text_t = remove_emoji(row['Title'])\n",
    "    text_d = remove_emoji(row['Description'])\n",
    "    df.at[i,'Title']= text_t\n",
    "    df.at[i,'Description'] = text_d"
   ]
  },
  {
   "cell_type": "code",
   "execution_count": 8,
   "metadata": {
    "id": "ZxNsClSOvX5m",
    "tags": []
   },
   "outputs": [],
   "source": [
    "#retaing meaninful words in the textdata\n",
    "for i, row in df.iterrows():\n",
    "    text_t = ' '.join([w for w in row['Title'].split() if wordnet.synsets(w)])\n",
    "    df.at[i,'Title'] = text_t\n",
    "    text_d = ' '.join([w for w in row['Description'].split() if wordnet.synsets(w)])\n",
    "    df.at[i,'Description'] = text_d"
   ]
  },
  {
   "cell_type": "code",
   "execution_count": 9,
   "metadata": {
    "id": "a__dHa7vvX5p",
    "tags": []
   },
   "outputs": [],
   "source": [
    "#prepare the textdata for modeling\n",
    "for i, row in df.iterrows():\n",
    "    word_list_t = row['Title'].lower().split() \n",
    "    filtered_words = [word for word in word_list_t if word not in stopwords.words('english')]\n",
    "    text_t = ' '.join(filtered_words)\n",
    "    df.at[i,'Title']= text_t\n",
    "    word_list_d = row['Description'].lower().split() \n",
    "    filtered_words = [word for word in word_list_d if word not in stopwords.words('english')]\n",
    "    text_d = ' '.join(filtered_words)\n",
    "    df.at[i,'Description'] = text_d"
   ]
  },
  {
   "cell_type": "code",
   "execution_count": 10,
   "metadata": {
    "colab": {
     "base_uri": "https://localhost:8080/",
     "height": 187
    },
    "id": "hlgBTuBnvX5s",
    "outputId": "ba35ab12-604a-4b9b-e43d-4b9be911354e",
    "tags": []
   },
   "outputs": [
    {
     "data": {
      "text/plain": [
       "Category\n",
       "sports                    2984\n",
       "nature                    2526\n",
       "science and technology    2499\n",
       "travel                    2431\n",
       "food                      2318\n",
       "art and music             2167\n",
       "manufacturing             1932\n",
       "adventure                 1575\n",
       "history                   1298\n",
       "Name: count, dtype: int64"
      ]
     },
     "execution_count": 10,
     "metadata": {},
     "output_type": "execute_result"
    }
   ],
   "source": [
    "df.Category.value_counts()"
   ]
  },
  {
   "cell_type": "code",
   "execution_count": 11,
   "metadata": {
    "id": "sHCaOMml6TAX",
    "tags": []
   },
   "outputs": [],
   "source": [
    "# Tokenization\n",
    "df['descriptions_token'] = df['Description'].apply(lambda x: x.split())"
   ]
  },
  {
   "cell_type": "code",
   "execution_count": 17,
   "metadata": {
    "id": "aIfFz7BfvX5z",
    "tags": []
   },
   "outputs": [],
   "source": [
    "#extract relevant tokens for further processing \n",
    "def token_check(x,model):\n",
    "  \"\"\"\n",
    "  1.Check if the token exists in the word2vec model vocab. \n",
    "  2.Check if the length of the token is greater than 3 \n",
    "  \"\"\"\n",
    "  token_list=[]\n",
    "  for i in x:\n",
    "      if len(i) > 3 and i in model.key_to_index:\n",
    "          token_list.append(i)\n",
    "      else:\n",
    "          continue\n",
    "  return token_list"
   ]
  },
  {
   "cell_type": "code",
   "execution_count": 18,
   "metadata": {
    "id": "Kh1A9OeTNvUn",
    "tags": []
   },
   "outputs": [],
   "source": [
    "#list of tokens using word embedding model\n",
    "def word_vector(tokens,size,model):\n",
    "\n",
    "  \"\"\"Averaging the word vectors\"\"\"\n",
    "  \n",
    "  vec = np.zeros(size).reshape((1, size))\n",
    "  count = 0\n",
    "  for word in tokens:\n",
    "    vec += model[word].reshape((1, size))\n",
    "    count += 1.\n",
    "  if count != 0:\n",
    "      vec /= count\n",
    "  return vec"
   ]
  },
  {
   "cell_type": "code",
   "execution_count": 19,
   "metadata": {
    "id": "NvtIyswW7L3P",
    "tags": []
   },
   "outputs": [],
   "source": [
    "from gensim.models import Word2Vec,KeyedVectors"
   ]
  },
  {
   "cell_type": "code",
   "execution_count": 29,
   "metadata": {
    "colab": {
     "base_uri": "https://localhost:8080/",
     "height": 71
    },
    "id": "4tZnqzZr6J7J",
    "outputId": "c13e7d52-ac76-4f87-ac94-c4f29d87508b",
    "tags": []
   },
   "outputs": [],
   "source": [
    "#Load the word2vec pre trained Model to get the word embeddings for each token\n",
    "model = KeyedVectors.load_word2vec_format('C:\\\\Users\\\\myyuv\\\\Documents\\\\pirapanth\\\\model\\\\model2\\\\GoogleNews-vectors-negative300.bin.gz',binary=True,limit=1000000)\n",
    "\n",
    "df['descriptions_token'] = df['descriptions_token'].apply(lambda x:token_check(x,model))"
   ]
  },
  {
   "cell_type": "code",
   "execution_count": 30,
   "metadata": {
    "id": "hMMv6eBP83uP",
    "tags": []
   },
   "outputs": [],
   "source": [
    "df.reset_index(drop=True, inplace=True)\n",
    "\n",
    "wordvec_arrays = np.zeros((len(df.descriptions_token),300))\n",
    "\n",
    "for i in range(len(df.descriptions_token)):\n",
    "  wordvec_arrays[i,:] = word_vector(df.descriptions_token[i],300,model)\n",
    "\n",
    "vectorized_df = pd.DataFrame(wordvec_arrays)"
   ]
  },
  {
   "cell_type": "code",
   "execution_count": 31,
   "metadata": {
    "id": "SvGoUzAwG6Ts",
    "tags": []
   },
   "outputs": [],
   "source": [
    "target_one_hot_encoded = pd.get_dummies(df['Category'])"
   ]
  },
  {
   "cell_type": "code",
   "execution_count": 32,
   "metadata": {
    "colab": {
     "base_uri": "https://localhost:8080/",
     "height": 204
    },
    "id": "LHPPV2WWHN9_",
    "outputId": "5ebc29a4-bc03-42bb-fea4-d431dc4fc8b0",
    "tags": []
   },
   "outputs": [
    {
     "data": {
      "text/html": [
       "<div>\n",
       "<style scoped>\n",
       "    .dataframe tbody tr th:only-of-type {\n",
       "        vertical-align: middle;\n",
       "    }\n",
       "\n",
       "    .dataframe tbody tr th {\n",
       "        vertical-align: top;\n",
       "    }\n",
       "\n",
       "    .dataframe thead th {\n",
       "        text-align: right;\n",
       "    }\n",
       "</style>\n",
       "<table border=\"1\" class=\"dataframe\">\n",
       "  <thead>\n",
       "    <tr style=\"text-align: right;\">\n",
       "      <th></th>\n",
       "      <th>adventure</th>\n",
       "      <th>art and music</th>\n",
       "      <th>food</th>\n",
       "      <th>history</th>\n",
       "      <th>manufacturing</th>\n",
       "      <th>nature</th>\n",
       "      <th>science and technology</th>\n",
       "      <th>sports</th>\n",
       "      <th>travel</th>\n",
       "    </tr>\n",
       "  </thead>\n",
       "  <tbody>\n",
       "    <tr>\n",
       "      <th>0</th>\n",
       "      <td>False</td>\n",
       "      <td>False</td>\n",
       "      <td>False</td>\n",
       "      <td>False</td>\n",
       "      <td>False</td>\n",
       "      <td>False</td>\n",
       "      <td>False</td>\n",
       "      <td>False</td>\n",
       "      <td>True</td>\n",
       "    </tr>\n",
       "    <tr>\n",
       "      <th>1</th>\n",
       "      <td>False</td>\n",
       "      <td>False</td>\n",
       "      <td>False</td>\n",
       "      <td>False</td>\n",
       "      <td>False</td>\n",
       "      <td>False</td>\n",
       "      <td>False</td>\n",
       "      <td>False</td>\n",
       "      <td>True</td>\n",
       "    </tr>\n",
       "    <tr>\n",
       "      <th>2</th>\n",
       "      <td>False</td>\n",
       "      <td>False</td>\n",
       "      <td>False</td>\n",
       "      <td>False</td>\n",
       "      <td>False</td>\n",
       "      <td>False</td>\n",
       "      <td>False</td>\n",
       "      <td>False</td>\n",
       "      <td>True</td>\n",
       "    </tr>\n",
       "    <tr>\n",
       "      <th>3</th>\n",
       "      <td>False</td>\n",
       "      <td>False</td>\n",
       "      <td>False</td>\n",
       "      <td>False</td>\n",
       "      <td>False</td>\n",
       "      <td>False</td>\n",
       "      <td>False</td>\n",
       "      <td>False</td>\n",
       "      <td>True</td>\n",
       "    </tr>\n",
       "    <tr>\n",
       "      <th>4</th>\n",
       "      <td>False</td>\n",
       "      <td>False</td>\n",
       "      <td>False</td>\n",
       "      <td>False</td>\n",
       "      <td>False</td>\n",
       "      <td>False</td>\n",
       "      <td>False</td>\n",
       "      <td>False</td>\n",
       "      <td>True</td>\n",
       "    </tr>\n",
       "  </tbody>\n",
       "</table>\n",
       "</div>"
      ],
      "text/plain": [
       "   adventure  art and music   food  history  manufacturing  nature  \\\n",
       "0      False          False  False    False          False   False   \n",
       "1      False          False  False    False          False   False   \n",
       "2      False          False  False    False          False   False   \n",
       "3      False          False  False    False          False   False   \n",
       "4      False          False  False    False          False   False   \n",
       "\n",
       "   science and technology  sports  travel  \n",
       "0                   False   False    True  \n",
       "1                   False   False    True  \n",
       "2                   False   False    True  \n",
       "3                   False   False    True  \n",
       "4                   False   False    True  "
      ]
     },
     "execution_count": 32,
     "metadata": {},
     "output_type": "execute_result"
    }
   ],
   "source": [
    "target_one_hot_encoded.head()"
   ]
  },
  {
   "cell_type": "code",
   "execution_count": 33,
   "metadata": {
    "id": "DLWkHfS6HWJh",
    "tags": []
   },
   "outputs": [],
   "source": [
    "dataset = pd.merge(vectorized_df,target_one_hot_encoded,left_index=True, right_index=True)"
   ]
  },
  {
   "cell_type": "code",
   "execution_count": 34,
   "metadata": {
    "id": "LcGCdaz8JXdC",
    "tags": []
   },
   "outputs": [],
   "source": [
    "dataset_shuffled = dataset.reindex(np.random.permutation(dataset.index))"
   ]
  },
  {
   "cell_type": "code",
   "execution_count": 35,
   "metadata": {
    "id": "WUcm7sPUKQvN",
    "tags": []
   },
   "outputs": [],
   "source": [
    "#splitting of data\n",
    "from sklearn.model_selection import train_test_split\n",
    "\n",
    "target=['adventure','art and music','food','history','manufacturing','nature','science and technology','sports','travel']\n",
    "X = dataset_shuffled.loc[:,~dataset_shuffled.columns.isin(target)]\n",
    "y = dataset_shuffled.loc[:,dataset_shuffled.columns.isin(target)]\n",
    "\n",
    "X_train, X_test, y_train, y_test = train_test_split(X, y,train_size=0.75,test_size=0.25,random_state=101)"
   ]
  },
  {
   "cell_type": "code",
   "execution_count": 36,
   "metadata": {
    "id": "DW0vLtKvKaSF",
    "tags": []
   },
   "outputs": [],
   "source": [
    "from keras import models\n",
    "from keras import layers\n",
    "from keras.layers import Dropout\n",
    "import tensorflow as tf\n",
    "from tensorflow import keras\n",
    "from sklearn.model_selection import train_test_split\n",
    "import pandas as pd\n",
    "import numpy as np\n",
    "from keras.callbacks import EarlyStopping\n",
    "from keras import backend as K\n",
    "from matplotlib import pyplot as plt\n",
    "\n",
    "#perform classification tasks,particular multi-class classification \n",
    "def NN_arch1(lrate=0.0001):\n",
    "    model = models.Sequential()\n",
    "    model.add(layers.Dense(300,input_dim = 300, activation='relu'))\n",
    "    model.add(layers.Dense(5,activation='relu'))\n",
    "    model.add(layers.Dense(4,activation='relu'))\n",
    "    model.add(layers.Dense(9,activation='softmax'))\n",
    "    opt = keras.optimizers.Adam(lr=lrate)\n",
    "    model.compile(optimizer=opt,loss='binary_crossentropy',metrics=['accuracy'])\n",
    "    return model\n",
    "\n",
    "def NN_arch2(lrate=0.0001):\n",
    "    model = models.Sequential()\n",
    "    model.add(layers.Dense(300,input_dim = 300, activation='relu'))\n",
    "    model.add(layers.Dense(5,activation='sigmoid'))\n",
    "    model.add(Dropout(0.20))\n",
    "    model.add(layers.Dense(6,activation='relu'))\n",
    "    model.add(Dropout(0.10))\n",
    "    #model.add(layers.Dense(4,activation='relu'))\n",
    "    model.add(layers.Dense(9,activation='softmax'))\n",
    "    opt = keras.optimizers.Adam(lr=lrate)\n",
    "    model.compile(optimizer=opt,loss='binary_crossentropy',metrics=['accuracy'])\n",
    "    return model\n",
    "#traing the model on the traning data\n",
    "def model_fit(model,X_train,y_train,X_test,y_test,epoch_val=50):\n",
    "    callbacks = EarlyStopping(monitor='val_loss',mode='min',patience=3)\n",
    "    model.fit(X_train, y_train, epochs=epoch_val,batch_size=50)\n",
    "    val_loss, val_acc = model.evaluate(X_test,y_test)\n",
    "    print(\"val_loss, val_acc\",val_loss, val_acc)\n",
    "    return val_loss,val_acc\n",
    "#create a plot that visualizes the traning and validation metrics\n",
    "def history_plot(history):\n",
    "    \"\"\" history plot \"\"\"\n",
    "    training_loss = history.history['loss']\n",
    "    test_loss = history.history['val_loss']\n",
    "    training_acc = history.history['accuracy']\n",
    "    test_acc = history.history['val_accuracy']\n",
    "\n",
    "    # Create count of the number of epochs\n",
    "    epoch_count = range(1, len(training_loss) + 1)\n",
    "\n",
    "    # Visualize loss history\n",
    "    plt.figure(figsize=(5,3))\n",
    "\n",
    "    plt.plot(epoch_count, training_loss, 'r--')\n",
    "    plt.plot(epoch_count, test_loss, 'b-')\n",
    "    plt.legend(['Training Loss', 'Test Loss'])\n",
    "    plt.xlabel('Epoch')\n",
    "    plt.ylabel('Loss')\n",
    "    plt.show()\n",
    "\n",
    "    #Visualize accuracy history\n",
    "    plt.plot(epoch_count, training_acc, 'r--')\n",
    "    plt.plot(epoch_count, test_acc, 'b-')\n",
    "    plt.legend(['Training acc', 'Test acc'])\n",
    "    plt.xlabel('Epoch')\n",
    "    plt.ylabel('Acc')\n",
    "    plt.show();"
   ]
  },
  {
   "cell_type": "code",
   "execution_count": 37,
   "metadata": {
    "id": "ja5diE9fLL3l",
    "tags": []
   },
   "outputs": [],
   "source": [
    "#model_NN = NN_arch1(0.00001)\n",
    "#val_loss,val_acc = model_fit(model_NN,X_train,y_train,X_test,y_test,epoch_val=100)\n",
    "\n",
    "#history = model_NN.fit(X_train,y_train,epochs=100,verbose=0,validation_data=(X_test, y_test)) \n",
    "#history_plot(history)"
   ]
  },
  {
   "cell_type": "code",
   "execution_count": 38,
   "metadata": {
    "colab": {
     "base_uri": "https://localhost:8080/",
     "height": 1000
    },
    "id": "VfbKjFNAL1Mz",
    "outputId": "238e3d9c-6db0-4533-d65f-4fb63fc6325f",
    "tags": []
   },
   "outputs": [
    {
     "name": "stderr",
     "output_type": "stream",
     "text": [
      "WARNING:absl:`lr` is deprecated in Keras optimizer, please use `learning_rate` or use the legacy optimizer, e.g.,tf.keras.optimizers.legacy.Adam.\n"
     ]
    },
    {
     "name": "stdout",
     "output_type": "stream",
     "text": [
      "Epoch 1/100\n",
      "148/148 [==============================] - 1s 4ms/step - loss: 0.6031 - accuracy: 0.1291 - val_loss: 0.5107 - val_accuracy: 0.1378\n",
      "Epoch 2/100\n",
      "148/148 [==============================] - 0s 3ms/step - loss: 0.4503 - accuracy: 0.1539 - val_loss: 0.3716 - val_accuracy: 0.1924\n",
      "Epoch 3/100\n",
      "148/148 [==============================] - 0s 3ms/step - loss: 0.3687 - accuracy: 0.1708 - val_loss: 0.3326 - val_accuracy: 0.2023\n",
      "Epoch 4/100\n",
      "148/148 [==============================] - 0s 3ms/step - loss: 0.3429 - accuracy: 0.2002 - val_loss: 0.3177 - val_accuracy: 0.2522\n",
      "Epoch 5/100\n",
      "148/148 [==============================] - 0s 3ms/step - loss: 0.3300 - accuracy: 0.2777 - val_loss: 0.3079 - val_accuracy: 0.3675\n",
      "Epoch 6/100\n",
      "148/148 [==============================] - 0s 3ms/step - loss: 0.3239 - accuracy: 0.2931 - val_loss: 0.3014 - val_accuracy: 0.3726\n",
      "Epoch 7/100\n",
      "148/148 [==============================] - 0s 3ms/step - loss: 0.3149 - accuracy: 0.3070 - val_loss: 0.2886 - val_accuracy: 0.4306\n",
      "Epoch 8/100\n",
      "148/148 [==============================] - 0s 3ms/step - loss: 0.3036 - accuracy: 0.3366 - val_loss: 0.2793 - val_accuracy: 0.4460\n",
      "Epoch 9/100\n",
      "148/148 [==============================] - 0s 3ms/step - loss: 0.2952 - accuracy: 0.3567 - val_loss: 0.2717 - val_accuracy: 0.4510\n",
      "Epoch 10/100\n",
      "148/148 [==============================] - 0s 3ms/step - loss: 0.2911 - accuracy: 0.3664 - val_loss: 0.2670 - val_accuracy: 0.4731\n",
      "Epoch 11/100\n",
      "148/148 [==============================] - 0s 3ms/step - loss: 0.2857 - accuracy: 0.3755 - val_loss: 0.2625 - val_accuracy: 0.4999\n",
      "Epoch 12/100\n",
      "148/148 [==============================] - 0s 3ms/step - loss: 0.2810 - accuracy: 0.3942 - val_loss: 0.2576 - val_accuracy: 0.5013\n",
      "Epoch 13/100\n",
      "148/148 [==============================] - 0s 3ms/step - loss: 0.2785 - accuracy: 0.4001 - val_loss: 0.2542 - val_accuracy: 0.5121\n",
      "Epoch 14/100\n",
      "148/148 [==============================] - 0s 3ms/step - loss: 0.2744 - accuracy: 0.4118 - val_loss: 0.2519 - val_accuracy: 0.5161\n",
      "Epoch 15/100\n",
      "148/148 [==============================] - 0s 3ms/step - loss: 0.2717 - accuracy: 0.4245 - val_loss: 0.2495 - val_accuracy: 0.5181\n",
      "Epoch 16/100\n",
      "148/148 [==============================] - 0s 3ms/step - loss: 0.2692 - accuracy: 0.4300 - val_loss: 0.2459 - val_accuracy: 0.5402\n",
      "Epoch 17/100\n",
      "148/148 [==============================] - 0s 3ms/step - loss: 0.2670 - accuracy: 0.4331 - val_loss: 0.2441 - val_accuracy: 0.5486\n",
      "Epoch 18/100\n",
      "148/148 [==============================] - 0s 3ms/step - loss: 0.2643 - accuracy: 0.4377 - val_loss: 0.2420 - val_accuracy: 0.5433\n",
      "Epoch 19/100\n",
      "148/148 [==============================] - 0s 3ms/step - loss: 0.2607 - accuracy: 0.4493 - val_loss: 0.2395 - val_accuracy: 0.5644\n",
      "Epoch 20/100\n",
      "148/148 [==============================] - 0s 3ms/step - loss: 0.2590 - accuracy: 0.4484 - val_loss: 0.2384 - val_accuracy: 0.5654\n",
      "Epoch 21/100\n",
      "148/148 [==============================] - 0s 3ms/step - loss: 0.2555 - accuracy: 0.4562 - val_loss: 0.2369 - val_accuracy: 0.5676\n",
      "Epoch 22/100\n",
      "148/148 [==============================] - 0s 3ms/step - loss: 0.2537 - accuracy: 0.4574 - val_loss: 0.2357 - val_accuracy: 0.5713\n",
      "Epoch 23/100\n",
      "148/148 [==============================] - 0s 3ms/step - loss: 0.2507 - accuracy: 0.4668 - val_loss: 0.2340 - val_accuracy: 0.5696\n",
      "Epoch 24/100\n",
      "148/148 [==============================] - 0s 3ms/step - loss: 0.2487 - accuracy: 0.4639 - val_loss: 0.2329 - val_accuracy: 0.5747\n",
      "Epoch 25/100\n",
      "148/148 [==============================] - 0s 3ms/step - loss: 0.2474 - accuracy: 0.4698 - val_loss: 0.2315 - val_accuracy: 0.5769\n",
      "Epoch 26/100\n",
      "148/148 [==============================] - 0s 3ms/step - loss: 0.2460 - accuracy: 0.4753 - val_loss: 0.2306 - val_accuracy: 0.5786\n",
      "Epoch 27/100\n",
      "148/148 [==============================] - 0s 3ms/step - loss: 0.2441 - accuracy: 0.4767 - val_loss: 0.2301 - val_accuracy: 0.5850\n",
      "Epoch 28/100\n",
      "148/148 [==============================] - 0s 3ms/step - loss: 0.2413 - accuracy: 0.4827 - val_loss: 0.2286 - val_accuracy: 0.5863\n",
      "Epoch 29/100\n",
      "148/148 [==============================] - 0s 3ms/step - loss: 0.2392 - accuracy: 0.4915 - val_loss: 0.2288 - val_accuracy: 0.5865\n",
      "Epoch 30/100\n",
      "148/148 [==============================] - 0s 3ms/step - loss: 0.2371 - accuracy: 0.4864 - val_loss: 0.2279 - val_accuracy: 0.5824\n",
      "Epoch 31/100\n",
      "148/148 [==============================] - 0s 3ms/step - loss: 0.2358 - accuracy: 0.5012 - val_loss: 0.2275 - val_accuracy: 0.5854\n",
      "Epoch 32/100\n",
      "148/148 [==============================] - 0s 3ms/step - loss: 0.2336 - accuracy: 0.5014 - val_loss: 0.2269 - val_accuracy: 0.5897\n",
      "Epoch 33/100\n",
      "148/148 [==============================] - 0s 3ms/step - loss: 0.2319 - accuracy: 0.5012 - val_loss: 0.2267 - val_accuracy: 0.5917\n",
      "Epoch 34/100\n",
      "148/148 [==============================] - 0s 3ms/step - loss: 0.2308 - accuracy: 0.5060 - val_loss: 0.2268 - val_accuracy: 0.5899\n",
      "Epoch 35/100\n",
      "148/148 [==============================] - 0s 3ms/step - loss: 0.2276 - accuracy: 0.5138 - val_loss: 0.2253 - val_accuracy: 0.6009\n",
      "Epoch 36/100\n",
      "148/148 [==============================] - 0s 3ms/step - loss: 0.2268 - accuracy: 0.5181 - val_loss: 0.2250 - val_accuracy: 0.6004\n",
      "Epoch 37/100\n",
      "148/148 [==============================] - 0s 3ms/step - loss: 0.2250 - accuracy: 0.5201 - val_loss: 0.2254 - val_accuracy: 0.5940\n",
      "Epoch 38/100\n",
      "148/148 [==============================] - 0s 3ms/step - loss: 0.2217 - accuracy: 0.5316 - val_loss: 0.2249 - val_accuracy: 0.6002\n",
      "Epoch 39/100\n",
      "148/148 [==============================] - 0s 3ms/step - loss: 0.2208 - accuracy: 0.5378 - val_loss: 0.2252 - val_accuracy: 0.6025\n",
      "Epoch 40/100\n",
      "148/148 [==============================] - 0s 3ms/step - loss: 0.2195 - accuracy: 0.5435 - val_loss: 0.2251 - val_accuracy: 0.6039\n",
      "Epoch 41/100\n",
      "148/148 [==============================] - 0s 3ms/step - loss: 0.2183 - accuracy: 0.5457 - val_loss: 0.2246 - val_accuracy: 0.6100\n",
      "Epoch 42/100\n",
      "148/148 [==============================] - 0s 3ms/step - loss: 0.2155 - accuracy: 0.5614 - val_loss: 0.2242 - val_accuracy: 0.6094\n",
      "Epoch 43/100\n",
      "148/148 [==============================] - 0s 3ms/step - loss: 0.2148 - accuracy: 0.5577 - val_loss: 0.2248 - val_accuracy: 0.6161\n",
      "Epoch 44/100\n",
      "148/148 [==============================] - 0s 3ms/step - loss: 0.2137 - accuracy: 0.5533 - val_loss: 0.2247 - val_accuracy: 0.6193\n",
      "Epoch 45/100\n",
      "148/148 [==============================] - 0s 3ms/step - loss: 0.2116 - accuracy: 0.5691 - val_loss: 0.2256 - val_accuracy: 0.6191\n",
      "Epoch 46/100\n",
      "148/148 [==============================] - 0s 3ms/step - loss: 0.2111 - accuracy: 0.5669 - val_loss: 0.2242 - val_accuracy: 0.6242\n",
      "Epoch 47/100\n",
      "148/148 [==============================] - 0s 3ms/step - loss: 0.2078 - accuracy: 0.5761 - val_loss: 0.2261 - val_accuracy: 0.6227\n",
      "Epoch 48/100\n",
      "148/148 [==============================] - 0s 3ms/step - loss: 0.2069 - accuracy: 0.5804 - val_loss: 0.2223 - val_accuracy: 0.6217\n",
      "Epoch 49/100\n",
      "148/148 [==============================] - 0s 3ms/step - loss: 0.2053 - accuracy: 0.5765 - val_loss: 0.2228 - val_accuracy: 0.6270\n",
      "Epoch 50/100\n",
      "148/148 [==============================] - 0s 3ms/step - loss: 0.2028 - accuracy: 0.5850 - val_loss: 0.2254 - val_accuracy: 0.6236\n",
      "Epoch 51/100\n",
      "148/148 [==============================] - 0s 3ms/step - loss: 0.2026 - accuracy: 0.5884 - val_loss: 0.2263 - val_accuracy: 0.6288\n",
      "Epoch 52/100\n",
      "148/148 [==============================] - 0s 3ms/step - loss: 0.2015 - accuracy: 0.5873 - val_loss: 0.2251 - val_accuracy: 0.6280\n",
      "Epoch 53/100\n",
      "148/148 [==============================] - 0s 3ms/step - loss: 0.2002 - accuracy: 0.5928 - val_loss: 0.2257 - val_accuracy: 0.6272\n",
      "Epoch 54/100\n",
      "148/148 [==============================] - 0s 3ms/step - loss: 0.1971 - accuracy: 0.6024 - val_loss: 0.2247 - val_accuracy: 0.6292\n",
      "Epoch 55/100\n",
      "148/148 [==============================] - 0s 3ms/step - loss: 0.1963 - accuracy: 0.6033 - val_loss: 0.2271 - val_accuracy: 0.6294\n",
      "Epoch 56/100\n",
      "148/148 [==============================] - 0s 3ms/step - loss: 0.1972 - accuracy: 0.6027 - val_loss: 0.2253 - val_accuracy: 0.6329\n",
      "Epoch 57/100\n",
      "148/148 [==============================] - 0s 3ms/step - loss: 0.1947 - accuracy: 0.6098 - val_loss: 0.2271 - val_accuracy: 0.6317\n",
      "Epoch 58/100\n",
      "148/148 [==============================] - 0s 3ms/step - loss: 0.1921 - accuracy: 0.6093 - val_loss: 0.2273 - val_accuracy: 0.6300\n",
      "Epoch 59/100\n",
      "148/148 [==============================] - 0s 3ms/step - loss: 0.1936 - accuracy: 0.6082 - val_loss: 0.2307 - val_accuracy: 0.6329\n",
      "Epoch 60/100\n",
      "148/148 [==============================] - 0s 3ms/step - loss: 0.1910 - accuracy: 0.6132 - val_loss: 0.2301 - val_accuracy: 0.6345\n",
      "Epoch 61/100\n",
      "148/148 [==============================] - 0s 3ms/step - loss: 0.1892 - accuracy: 0.6226 - val_loss: 0.2297 - val_accuracy: 0.6288\n",
      "Epoch 62/100\n",
      "148/148 [==============================] - 0s 3ms/step - loss: 0.1892 - accuracy: 0.6225 - val_loss: 0.2319 - val_accuracy: 0.6327\n",
      "Epoch 63/100\n",
      "148/148 [==============================] - 0s 3ms/step - loss: 0.1877 - accuracy: 0.6313 - val_loss: 0.2310 - val_accuracy: 0.6355\n",
      "Epoch 64/100\n",
      "148/148 [==============================] - 0s 3ms/step - loss: 0.1849 - accuracy: 0.6353 - val_loss: 0.2343 - val_accuracy: 0.6347\n",
      "Epoch 65/100\n",
      "148/148 [==============================] - 0s 3ms/step - loss: 0.1851 - accuracy: 0.6334 - val_loss: 0.2327 - val_accuracy: 0.6371\n",
      "Epoch 66/100\n",
      "148/148 [==============================] - 0s 3ms/step - loss: 0.1848 - accuracy: 0.6341 - val_loss: 0.2347 - val_accuracy: 0.6367\n",
      "Epoch 67/100\n",
      "148/148 [==============================] - 0s 3ms/step - loss: 0.1835 - accuracy: 0.6407 - val_loss: 0.2336 - val_accuracy: 0.6377\n",
      "Epoch 68/100\n",
      "148/148 [==============================] - 0s 3ms/step - loss: 0.1807 - accuracy: 0.6442 - val_loss: 0.2362 - val_accuracy: 0.6331\n",
      "Epoch 69/100\n",
      "148/148 [==============================] - 0s 3ms/step - loss: 0.1818 - accuracy: 0.6451 - val_loss: 0.2405 - val_accuracy: 0.6388\n",
      "Epoch 70/100\n",
      "148/148 [==============================] - 1s 3ms/step - loss: 0.1815 - accuracy: 0.6459 - val_loss: 0.2345 - val_accuracy: 0.6321\n",
      "Epoch 71/100\n",
      "148/148 [==============================] - 0s 3ms/step - loss: 0.1774 - accuracy: 0.6544 - val_loss: 0.2384 - val_accuracy: 0.6365\n",
      "Epoch 72/100\n",
      "148/148 [==============================] - 0s 3ms/step - loss: 0.1794 - accuracy: 0.6514 - val_loss: 0.2397 - val_accuracy: 0.6335\n",
      "Epoch 73/100\n",
      "148/148 [==============================] - 0s 3ms/step - loss: 0.1776 - accuracy: 0.6535 - val_loss: 0.2429 - val_accuracy: 0.6349\n",
      "Epoch 74/100\n",
      "148/148 [==============================] - 0s 3ms/step - loss: 0.1752 - accuracy: 0.6620 - val_loss: 0.2396 - val_accuracy: 0.6309\n",
      "Epoch 75/100\n",
      "148/148 [==============================] - 0s 3ms/step - loss: 0.1744 - accuracy: 0.6654 - val_loss: 0.2444 - val_accuracy: 0.6371\n",
      "Epoch 76/100\n",
      "148/148 [==============================] - 0s 3ms/step - loss: 0.1770 - accuracy: 0.6591 - val_loss: 0.2419 - val_accuracy: 0.6317\n",
      "Epoch 77/100\n",
      "148/148 [==============================] - 0s 3ms/step - loss: 0.1743 - accuracy: 0.6647 - val_loss: 0.2420 - val_accuracy: 0.6329\n",
      "Epoch 78/100\n",
      "148/148 [==============================] - 0s 3ms/step - loss: 0.1750 - accuracy: 0.6611 - val_loss: 0.2449 - val_accuracy: 0.6341\n",
      "Epoch 79/100\n",
      "148/148 [==============================] - 0s 3ms/step - loss: 0.1746 - accuracy: 0.6622 - val_loss: 0.2428 - val_accuracy: 0.6333\n",
      "Epoch 80/100\n",
      "148/148 [==============================] - 0s 3ms/step - loss: 0.1730 - accuracy: 0.6655 - val_loss: 0.2502 - val_accuracy: 0.6341\n",
      "Epoch 81/100\n",
      "148/148 [==============================] - 0s 3ms/step - loss: 0.1693 - accuracy: 0.6774 - val_loss: 0.2467 - val_accuracy: 0.6331\n",
      "Epoch 82/100\n",
      "148/148 [==============================] - 0s 3ms/step - loss: 0.1698 - accuracy: 0.6787 - val_loss: 0.2486 - val_accuracy: 0.6347\n",
      "Epoch 83/100\n",
      "148/148 [==============================] - 0s 3ms/step - loss: 0.1678 - accuracy: 0.6805 - val_loss: 0.2508 - val_accuracy: 0.6347\n",
      "Epoch 84/100\n",
      "148/148 [==============================] - 0s 3ms/step - loss: 0.1687 - accuracy: 0.6787 - val_loss: 0.2527 - val_accuracy: 0.6337\n",
      "Epoch 85/100\n",
      "148/148 [==============================] - 0s 3ms/step - loss: 0.1695 - accuracy: 0.6747 - val_loss: 0.2504 - val_accuracy: 0.6311\n",
      "Epoch 86/100\n",
      "148/148 [==============================] - 0s 3ms/step - loss: 0.1675 - accuracy: 0.6840 - val_loss: 0.2568 - val_accuracy: 0.6349\n",
      "Epoch 87/100\n",
      "148/148 [==============================] - 0s 3ms/step - loss: 0.1666 - accuracy: 0.6854 - val_loss: 0.2509 - val_accuracy: 0.6325\n",
      "Epoch 88/100\n",
      "148/148 [==============================] - 0s 3ms/step - loss: 0.1658 - accuracy: 0.6926 - val_loss: 0.2566 - val_accuracy: 0.6359\n",
      "Epoch 89/100\n",
      "148/148 [==============================] - 0s 3ms/step - loss: 0.1638 - accuracy: 0.6933 - val_loss: 0.2552 - val_accuracy: 0.6367\n",
      "Epoch 90/100\n",
      "148/148 [==============================] - 0s 3ms/step - loss: 0.1652 - accuracy: 0.6901 - val_loss: 0.2562 - val_accuracy: 0.6384\n",
      "Epoch 91/100\n",
      "148/148 [==============================] - 0s 3ms/step - loss: 0.1638 - accuracy: 0.6926 - val_loss: 0.2556 - val_accuracy: 0.6347\n",
      "Epoch 92/100\n",
      "148/148 [==============================] - 0s 3ms/step - loss: 0.1651 - accuracy: 0.6905 - val_loss: 0.2572 - val_accuracy: 0.6375\n",
      "Epoch 93/100\n",
      "148/148 [==============================] - 0s 3ms/step - loss: 0.1622 - accuracy: 0.6958 - val_loss: 0.2557 - val_accuracy: 0.6323\n",
      "Epoch 94/100\n",
      "148/148 [==============================] - 0s 3ms/step - loss: 0.1628 - accuracy: 0.6985 - val_loss: 0.2581 - val_accuracy: 0.6333\n",
      "Epoch 95/100\n",
      "148/148 [==============================] - 0s 3ms/step - loss: 0.1612 - accuracy: 0.6979 - val_loss: 0.2648 - val_accuracy: 0.6375\n",
      "Epoch 96/100\n",
      "148/148 [==============================] - 0s 3ms/step - loss: 0.1630 - accuracy: 0.6943 - val_loss: 0.2622 - val_accuracy: 0.6384\n",
      "Epoch 97/100\n",
      "148/148 [==============================] - 0s 3ms/step - loss: 0.1610 - accuracy: 0.6993 - val_loss: 0.2642 - val_accuracy: 0.6347\n",
      "Epoch 98/100\n",
      "148/148 [==============================] - 0s 3ms/step - loss: 0.1605 - accuracy: 0.7032 - val_loss: 0.2631 - val_accuracy: 0.6319\n",
      "Epoch 99/100\n",
      "148/148 [==============================] - 0s 3ms/step - loss: 0.1587 - accuracy: 0.7025 - val_loss: 0.2725 - val_accuracy: 0.6307\n",
      "Epoch 100/100\n",
      "148/148 [==============================] - 0s 3ms/step - loss: 0.1574 - accuracy: 0.7112 - val_loss: 0.2639 - val_accuracy: 0.6363\n"
     ]
    },
    {
     "data": {
      "image/png": "[encoded data removed]",
      "text/plain": [
       "<Figure size 500x300 with 1 Axes>"
      ]
     },
     "metadata": {},
     "output_type": "display_data"
    },
    {
     "data": {
      "image/png": "[encoded data removed]",
      "text/plain": [
       "<Figure size 640x480 with 1 Axes>"
      ]
     },
     "metadata": {},
     "output_type": "display_data"
    }
   ],
   "source": [
    "#create model\n",
    "model_NN = NN_arch2(0.0009)\n",
    "#val_loss,val_acc = model_fit(model_NN,100)\n",
    "history = model_NN.fit(X_train,y_train,epochs=100,verbose=1,batch_size=100,validation_data=(X_test, y_test)) \n",
    "history_plot(history)"
   ]
  },
  {
   "cell_type": "markdown",
   "metadata": {
    "id": "8jLzWTOHYAw4"
   },
   "source": []
  },
  {
   "cell_type": "code",
   "execution_count": 39,
   "metadata": {
    "id": "CXS_uvmLg0Yd",
    "tags": []
   },
   "outputs": [
    {
     "name": "stderr",
     "output_type": "stream",
     "text": [
      "C:\\Users\\myyuv\\anaconda3\\Lib\\site-packages\\keras\\src\\engine\\training.py:3103: UserWarning: You are saving your model as an HDF5 file via `model.save()`. This file format is considered legacy. We recommend using instead the native Keras format, e.g. `model.save('my_model.keras')`.\n",
      "  saving_api.save_model(\n"
     ]
    }
   ],
   "source": [
    "#save the model\n",
    "model_NN.save('C:\\\\Users\\\\myyuv\\\\Documents\\\\pirapanth\\\\model\\\\model2\\\\model_text_categorize.h5')"
   ]
  },
  {
   "cell_type": "code",
   "execution_count": 2,
   "metadata": {
    "id": "5OxW466FhqL7",
    "tags": []
   },
   "outputs": [
    {
     "name": "stdout",
     "output_type": "stream",
     "text": [
      "WARNING:tensorflow:From C:\\Users\\myyuv\\anaconda3\\Lib\\site-packages\\keras\\src\\losses.py:2976: The name tf.losses.sparse_softmax_cross_entropy is deprecated. Please use tf.compat.v1.losses.sparse_softmax_cross_entropy instead.\n",
      "\n",
      "WARNING:tensorflow:From C:\\Users\\myyuv\\anaconda3\\Lib\\site-packages\\keras\\src\\backend.py:1398: The name tf.executing_eagerly_outside_functions is deprecated. Please use tf.compat.v1.executing_eagerly_outside_functions instead.\n",
      "\n"
     ]
    }
   ],
   "source": [
    "import tensorflow as tf\n",
    "loaded_model = tf.keras.models.load_model('C:\\\\Users\\\\myyuv\\\\Documents\\\\pirapanth\\\\model\\\\model2\\\\model_text_categorize.h5')"
   ]
  },
  {
   "cell_type": "code",
   "execution_count": 4,
   "metadata": {
    "id": "BA14IRY3givO",
    "tags": []
   },
   "outputs": [],
   "source": [
    "#Load the word2vec pre trained Model to get the word embeddings for each token\n",
    "from gensim.models import KeyedVectors\n",
    "model = KeyedVectors.load_word2vec_format('C:\\\\Users\\\\myyuv\\\\Documents\\\\pirapanth\\\\model\\\\model2\\\\GoogleNews-vectors-negative300.bin.gz',binary=True,limit=1000000)"
   ]
  },
  {
   "cell_type": "code",
   "execution_count": 5,
   "metadata": {
    "id": "vzrYtIlFbN14",
    "tags": []
   },
   "outputs": [],
   "source": [
    "def clean_description_text(description):\n",
    "  description = description.replace(r'\\d+','')\n",
    "  spec_chars = [\"!\",'\"',\"#\",\"%\",\"&\",\"'\",\"(\",\")\",\n",
    "                \"*\",\"+\",\",\",\"-\",\".\",\"/\",\":\",\";\",\"<\",\n",
    "                \"=\",\">\",\"?\",\"@\",\"[\",\"\\\\\",\"]\",\"^\",\"_\",\n",
    "                \"`\",\"{\",\"|\",\"}\",\"~\",\"–\"]\n",
    "  for char in spec_chars:\n",
    "      description = description.replace(char, ' ')\n",
    "\n",
    "  word_list_t = description.lower().split() \n",
    " \n",
    "  filtered_words = [word for word in word_list_t if word not in stopwords.words('english')]\n",
    "  text = ' '.join(filtered_words)\n",
    "  return text"
   ]
  },
  {
   "cell_type": "code",
   "execution_count": 9,
   "metadata": {
    "tags": []
   },
   "outputs": [],
   "source": [
    "import pandas as pd\n",
    "\n",
    "\n",
    "data = pd.read_csv('C:\\\\Users\\\\myyuv\\\\Documents\\\\pirapanth\\\\model\\\\model2\\\\merged_data_file.csv')\n",
    "df = data[data['Description'].notnull()]\n",
    "def token_check(x,vector_model):\n",
    "  \"\"\"\n",
    "  1.Check if the token exists in the word2vec model vocab. \n",
    "  2.Check if the length of the token is greater than 3 \n",
    "  \"\"\"\n",
    "  token_list=[]\n",
    "  for i in x:\n",
    "      if len(i) > 3 and i in vector_model.key_to_index:\n",
    "          token_list.append(i)\n",
    "      else:\n",
    "          continue\n",
    "  return token_list"
   ]
  },
  {
   "cell_type": "code",
   "execution_count": 10,
   "metadata": {
    "tags": []
   },
   "outputs": [],
   "source": [
    "def word_vector(tokens,size,vector_model):\n",
    "\n",
    "  \"\"\"Averaging the word vectors\"\"\"\n",
    "  \n",
    "  vec = np.zeros(size).reshape((1, size))\n",
    "  count = 0\n",
    "  for word in tokens:\n",
    "    vec += vector_model[word].reshape((1, size))\n",
    "    count += 1.\n",
    "  if count != 0:\n",
    "      vec /= count\n",
    "  return vec"
   ]
  },
  {
   "cell_type": "code",
   "execution_count": 13,
   "metadata": {
    "colab": {
     "base_uri": "https://localhost:8080/",
     "height": 34
    },
    "id": "JwlowdXnZvKF",
    "outputId": "e1bc1eb6-bcc0-41be-982f-567d59db890f",
    "tags": []
   },
   "outputs": [
    {
     "name": "stdout",
     "output_type": "stream",
     "text": [
      "1/1 [==============================] - 0s 89ms/step\n",
      "Predicted Label :  sports\n"
     ]
    }
   ],
   "source": [
    "#test the model\n",
    "\n",
    "description = 'cricket '\n",
    "\n",
    "clean_description = clean_description_text(description)\n",
    "description_tokens = list(clean_description.split(\" \"))\n",
    "description_tokens_filtered = token_check(description_tokens,model)\n",
    "\n",
    "_arrays = np.zeros((1, 300))\n",
    "_arrays[0,:] = word_vector(description_tokens_filtered,300,model)\n",
    "vectorized_array = pd.DataFrame(_arrays)\n",
    "\n",
    "pred = loaded_model.predict([vectorized_array.iloc[:,0:300]])\n",
    "\n",
    "value = np.argmax(pred,axis=-1)\n",
    "labels = ['adventure','art and music','food','history','manufacturing','nature','science and technology','sports','travel']\n",
    "\n",
    "print(\"Predicted Label : \" , labels[value.item()])  "
   ]
  },
  {
   "cell_type": "code",
   "execution_count": null,
   "metadata": {},
   "outputs": [],
   "source": []
  }
 ],
 "metadata": {
  "colab": {
   "collapsed_sections": [
    "rzg9Sj1U6TwZ",
    "tVjM6UB-545n",
    "BTwu4NUAKbwM"
   ],
   "name": "Final_project.ipynb",
   "provenance": []
  },
  "kernelspec": {
   "display_name": "Python 3 (ipykernel)",
   "language": "python",
   "name": "python3"
  },
  "language_info": {
   "codemirror_mode": {
    "name": "ipython",
    "version": 3
   },
   "file_extension": ".py",
   "mimetype": "text/x-python",
   "name": "python",
   "nbconvert_exporter": "python",
   "pygments_lexer": "ipython3",
   "version": "3.11.5"
  }
 },
 "nbformat": 4,
 "nbformat_minor": 4
}
